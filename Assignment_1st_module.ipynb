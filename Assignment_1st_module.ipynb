{
 "cells": [
  {
   "cell_type": "markdown",
   "metadata": {},
   "source": [
    "# Part - A  Questions"
   ]
  },
  {
   "cell_type": "markdown",
   "metadata": {},
   "source": [
    "## 1. The game is that the computer \"thinks\" about a number and we have to guess it. On every guess, the computer will tell us if our guess was smaller or bigger than the hidden number. The game ends when we find the number.Also Define no of attemps took to find this hidden number.(Hidden number lies between 0 - 100)"
   ]
  },
  {
   "cell_type": "code",
   "execution_count": 1,
   "metadata": {},
   "outputs": [],
   "source": [
    "# Guess no. game\n",
    "import random"
   ]
  },
  {
   "cell_type": "code",
   "execution_count": 2,
   "metadata": {},
   "outputs": [],
   "source": [
    "GuessNo = 0"
   ]
  },
  {
   "cell_type": "code",
   "execution_count": 3,
   "metadata": {},
   "outputs": [],
   "source": [
    "rnumber = random.randint(0,100) #random no. b/w 0-100"
   ]
  },
  {
   "cell_type": "code",
   "execution_count": 4,
   "metadata": {},
   "outputs": [
    {
     "name": "stdout",
     "output_type": "stream",
     "text": [
      "Your Guess:\n",
      "44\n",
      "Your Guess is bigger\n",
      "Your Guess:\n",
      "33\n",
      "Your Guess is bigger\n",
      "Your Guess:\n",
      "22\n",
      "Your Guess is smaller\n",
      "Your Guess:\n",
      "25\n"
     ]
    }
   ],
   "source": [
    "while GuessNo < 5:\n",
    "    print('Your Guess:')\n",
    "    guess = int(input())\n",
    "    \n",
    "    GuessNo+= 1\n",
    "    \n",
    "    if guess < rnumber:\n",
    "        print('Your Guess is smaller')\n",
    "    \n",
    "    if guess > rnumber:\n",
    "        print('Your Guess is bigger')\n",
    "    \n",
    "    if guess == rnumber:\n",
    "        break"
   ]
  },
  {
   "cell_type": "code",
   "execution_count": 5,
   "metadata": {},
   "outputs": [
    {
     "name": "stdout",
     "output_type": "stream",
     "text": [
      "Number guessed in 4 guesses\n"
     ]
    }
   ],
   "source": [
    "if guess == rnumber:\n",
    "    print(\"Number guessed in \"+str(GuessNo)+\" guesses\")\n",
    "\n",
    "if guess != rnumber:\n",
    "    print(\"Number is \"+str(rnumber))"
   ]
  },
  {
   "cell_type": "markdown",
   "metadata": {},
   "source": [
    "## 2. Write a function that takes a list of strings an prints them, one per line, in a rectangular frame. For example the list [\"Hello\", \"World\", \"in\", \"a\", \"frame\"] gets printed as:\n",
    "\n",
    "*********\n",
    "* Hello     *\n",
    "* World   *\n",
    "* in           *\n",
    "* a             *\n",
    "* frame   *\n",
    "*********"
   ]
  },
  {
   "cell_type": "code",
   "execution_count": 6,
   "metadata": {},
   "outputs": [],
   "source": [
    "def rect_frame(strings):\n",
    "    border_size = max(len(string) for string in strings) #to find max. lengnth of all strings\n",
    "    print('*' * (border_size + 4))                      \n",
    "    for string in strings:\n",
    "        print('* {:{}} *'.format(string,border_size))\n",
    "    print('*' * (border_size + 4))"
   ]
  },
  {
   "cell_type": "code",
   "execution_count": 7,
   "metadata": {},
   "outputs": [
    {
     "name": "stdout",
     "output_type": "stream",
     "text": [
      "Hello World in a frame\n"
     ]
    }
   ],
   "source": [
    "strings = input()\n",
    "list_strings = strings.split()  #strings to list of strings"
   ]
  },
  {
   "cell_type": "code",
   "execution_count": 8,
   "metadata": {},
   "outputs": [
    {
     "data": {
      "text/plain": [
       "['Hello', 'World', 'in', 'a', 'frame']"
      ]
     },
     "execution_count": 8,
     "metadata": {},
     "output_type": "execute_result"
    }
   ],
   "source": [
    "list_strings"
   ]
  },
  {
   "cell_type": "code",
   "execution_count": 9,
   "metadata": {},
   "outputs": [
    {
     "name": "stdout",
     "output_type": "stream",
     "text": [
      "*********\n",
      "* Hello *\n",
      "* World *\n",
      "* in    *\n",
      "* a     *\n",
      "* frame *\n",
      "*********\n"
     ]
    }
   ],
   "source": [
    "rect_frame(list_strings)"
   ]
  },
  {
   "cell_type": "markdown",
   "metadata": {},
   "source": [
    "# Part - B  Questions"
   ]
  },
  {
   "cell_type": "markdown",
   "metadata": {},
   "source": [
    "## 1. Develop a Python Program which prints  cube sum of first n natural numbers (N is user defined)"
   ]
  },
  {
   "cell_type": "code",
   "execution_count": 10,
   "metadata": {},
   "outputs": [],
   "source": [
    "def cube_sum_series(n):\n",
    "    sum=0;\n",
    "    for i in range(1, n+1): \n",
    "        sum +=i*i*i \n",
    "          \n",
    "    return sum"
   ]
  },
  {
   "cell_type": "code",
   "execution_count": 11,
   "metadata": {},
   "outputs": [
    {
     "name": "stdout",
     "output_type": "stream",
     "text": [
      "Enter no. 5\n"
     ]
    }
   ],
   "source": [
    "n =int(input('Enter no. '))"
   ]
  },
  {
   "cell_type": "code",
   "execution_count": 12,
   "metadata": {},
   "outputs": [
    {
     "name": "stdout",
     "output_type": "stream",
     "text": [
      "225\n"
     ]
    }
   ],
   "source": [
    "print(cube_sum_series(n))"
   ]
  },
  {
   "cell_type": "markdown",
   "metadata": {},
   "source": [
    "## 2. Develop a python program which print sum of all the Integers in a list ( Note  : All the elements must be user defined and list must contain strings also ) "
   ]
  },
  {
   "cell_type": "code",
   "execution_count": 13,
   "metadata": {},
   "outputs": [
    {
     "name": "stdout",
     "output_type": "stream",
     "text": [
      "Enter both numbers and strings1 2 34 45 Name error\n"
     ]
    }
   ],
   "source": [
    "Mixed_values = input(\"Enter both numbers and strings\")"
   ]
  },
  {
   "cell_type": "code",
   "execution_count": 14,
   "metadata": {},
   "outputs": [
    {
     "data": {
      "text/plain": [
       "['1', '2', '34', '45', 'Name', 'error']"
      ]
     },
     "execution_count": 14,
     "metadata": {},
     "output_type": "execute_result"
    }
   ],
   "source": [
    "Mixed_list = Mixed_values.split()\n",
    "Mixed_list"
   ]
  },
  {
   "cell_type": "code",
   "execution_count": 15,
   "metadata": {},
   "outputs": [
    {
     "name": "stdout",
     "output_type": "stream",
     "text": [
      "82\n"
     ]
    }
   ],
   "source": [
    "print(sum([int(i) for i in Mixed_list if type(i)== int or i.isdigit()]))\n",
    "    "
   ]
  }
 ],
 "metadata": {
  "kernelspec": {
   "display_name": "Python 3",
   "language": "python",
   "name": "python3"
  },
  "language_info": {
   "codemirror_mode": {
    "name": "ipython",
    "version": 3
   },
   "file_extension": ".py",
   "mimetype": "text/x-python",
   "name": "python",
   "nbconvert_exporter": "python",
   "pygments_lexer": "ipython3",
   "version": "3.7.4"
  }
 },
 "nbformat": 4,
 "nbformat_minor": 2
}
